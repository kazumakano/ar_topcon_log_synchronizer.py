{
 "cells": [
  {
   "cell_type": "code",
   "execution_count": null,
   "metadata": {},
   "outputs": [],
   "source": [
    "import os.path as path\n",
    "from datetime import datetime\n",
    "import script.utility as util"
   ]
  },
  {
   "cell_type": "code",
   "execution_count": null,
   "metadata": {},
   "outputs": [],
   "source": [
    "ar_log_file = \"/raid/data/00_students/ug2196145/topcon_log_synchronizer.py/cam_pdr_student/ar/kairi1f1.csv\"\n",
    "inertial_log_file = \"/raid/data/00_students/ug2196145/topcon_log_synchronizer.py/cam_pdr_student/inertial/kairi1f1_inertial_aggmgr.pkl\"\n",
    "\n",
    "ar_ts, ar_pos, ar_height, ar_ori = util.load_ar_log(ar_log_file)\n",
    "inertial_ts, inertial_val = util.load_inertial_log(inertial_log_file)"
   ]
  },
  {
   "cell_type": "markdown",
   "metadata": {},
   "source": [
    "find jump action"
   ]
  },
  {
   "cell_type": "code",
   "execution_count": null,
   "metadata": {},
   "outputs": [],
   "source": [
    "min_jump_interval = 0\n",
    "\n",
    "ar_jump_idxes = util.find_jump_in_topcon(ar_ts, ar_pos, ar_height, min_jump_interval)"
   ]
  },
  {
   "cell_type": "code",
   "execution_count": null,
   "metadata": {},
   "outputs": [],
   "source": [
    "min_jump_interval = 0\n",
    "\n",
    "inertial_jump_idxes = util.find_jump_in_inertial(inertial_ts, inertial_val[:, :3], min_jump_interval)"
   ]
  },
  {
   "cell_type": "markdown",
   "metadata": {},
   "source": [
    "synchronize logs"
   ]
  },
  {
   "cell_type": "code",
   "execution_count": null,
   "metadata": {},
   "outputs": [],
   "source": [
    "padding = 100\n",
    "use_jump_idxes = \"both\"\n",
    "\n",
    "cut_inertial_ts = util.cut_with_padding(inertial_ts, inertial_jump_idxes, padding)\n",
    "cut_inertial_val = util.cut_with_padding(inertial_val, inertial_jump_idxes, padding)\n",
    "resampled_ar_pos, resampled_ar_height, resampled_ar_ori = util.adjust_freq(cut_inertial_ts, util.adjust_ts_offset(inertial_jump_idxes, inertial_ts, ar_jump_idxes, ar_ts, use_jump_idxes), ar_pos, ar_height, ar_ori)"
   ]
  },
  {
   "cell_type": "markdown",
   "metadata": {},
   "source": [
    "correct start point and direction"
   ]
  },
  {
   "cell_type": "code",
   "execution_count": null,
   "metadata": {},
   "outputs": [],
   "source": [
    "ref_direct_tan = 0\n",
    "rot_angle = 0\n",
    "\n",
    "corrected_ar_pos = util.rot(rot_angle, resampled_ar_pos - resampled_ar_pos[0])\n",
    "util.vis_tj(corrected_ar_pos, ref_direct_tan)"
   ]
  },
  {
   "cell_type": "markdown",
   "metadata": {},
   "source": [
    "export synchronized log"
   ]
  },
  {
   "cell_type": "code",
   "execution_count": null,
   "metadata": {},
   "outputs": [],
   "source": [
    "dir_and_file_name = path.splitext(path.basename(inertial_log_file))[0]\n",
    "\n",
    "util.export_single(dir_and_file_name, cut_inertial_ts, cut_inertial_val, corrected_ar_pos, resampled_ar_height, resampled_ar_ori)\n",
    "util.write_conf(dir_and_file_name, padding, rot_angle)"
   ]
  }
 ],
 "metadata": {
  "kernelspec": {
   "display_name": "Python 3",
   "language": "python",
   "name": "python3"
  },
  "language_info": {
   "codemirror_mode": {
    "name": "ipython",
    "version": 3
   },
   "file_extension": ".py",
   "mimetype": "text/x-python",
   "name": "python",
   "nbconvert_exporter": "python",
   "pygments_lexer": "ipython3",
   "version": "3.11.4"
  }
 },
 "nbformat": 4,
 "nbformat_minor": 2
}
