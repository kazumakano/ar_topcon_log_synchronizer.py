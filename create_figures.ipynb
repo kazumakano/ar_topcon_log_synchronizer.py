{
 "cells": [
  {
   "cell_type": "code",
   "execution_count": null,
   "metadata": {},
   "outputs": [],
   "source": [
    "from datetime import datetime\n",
    "import script.ipsj_utility as ipsj_util\n",
    "import script.utility as util"
   ]
  },
  {
   "attachments": {},
   "cell_type": "markdown",
   "metadata": {},
   "source": [
    "### distribution of horizontal acceleration"
   ]
  },
  {
   "attachments": {},
   "cell_type": "markdown",
   "metadata": {},
   "source": [
    "initialize"
   ]
  },
  {
   "cell_type": "code",
   "execution_count": null,
   "metadata": {},
   "outputs": [],
   "source": [
    "inertial_val_dict = {}\n",
    "pos_dict = {}"
   ]
  },
  {
   "attachments": {},
   "cell_type": "markdown",
   "metadata": {},
   "source": [
    "prepare data"
   ]
  },
  {
   "cell_type": "code",
   "execution_count": null,
   "metadata": {},
   "outputs": [],
   "source": [
    "log_file = \"foo.csv\"\n",
    "\n",
    "ts, inertial_val, pos, height = util.load_synced_log(log_file)"
   ]
  },
  {
   "cell_type": "code",
   "execution_count": null,
   "metadata": {},
   "outputs": [],
   "source": [
    "begin_idx = 0\n",
    "win_len = 400\n",
    "\n",
    "util.vis_tj_with_phone_direct(pos[begin_idx:begin_idx + win_len], inertial_val[begin_idx:begin_idx + win_len, 12:], win_len // 7 - 1)"
   ]
  },
  {
   "cell_type": "code",
   "execution_count": null,
   "metadata": {},
   "outputs": [],
   "source": [
    "gait = \"forward\"\n",
    "\n",
    "inertial_val_dict[gait] = inertial_val[begin_idx:begin_idx + win_len]\n",
    "pos_dict[gait] = pos[begin_idx:begin_idx + win_len]"
   ]
  },
  {
   "attachments": {},
   "cell_type": "markdown",
   "metadata": {},
   "source": [
    "generate figure"
   ]
  },
  {
   "cell_type": "code",
   "execution_count": null,
   "metadata": {},
   "outputs": [],
   "source": [
    "enable_grid = False\n",
    "result_file_name = None\n",
    "\n",
    "ipsj_util.create_acc_distrib_figure(inertial_val_dict, pos_dict, enable_grid, result_file_name)"
   ]
  },
  {
   "attachments": {},
   "cell_type": "markdown",
   "metadata": {},
   "source": [
    "### course"
   ]
  },
  {
   "attachments": {},
   "cell_type": "markdown",
   "metadata": {},
   "source": [
    "initialize"
   ]
  },
  {
   "cell_type": "code",
   "execution_count": null,
   "metadata": {},
   "outputs": [],
   "source": [
    "pos_dict = {}\n",
    "quat_dict = {}"
   ]
  },
  {
   "attachments": {},
   "cell_type": "markdown",
   "metadata": {},
   "source": [
    "prepare data"
   ]
  },
  {
   "cell_type": "code",
   "execution_count": null,
   "metadata": {},
   "outputs": [],
   "source": [
    "log_file = \"foo.csv\"\n",
    "\n",
    "ts, inertial_val, pos, height = util.load_synced_log(log_file)\n",
    "print(f\"log length is {len(ts)}\")"
   ]
  },
  {
   "cell_type": "code",
   "execution_count": null,
   "metadata": {},
   "outputs": [],
   "source": [
    "begin_idx = 0\n",
    "end_idx = -1\n",
    "\n",
    "util.vis_tj_with_phone_direct(pos[begin_idx:end_idx], inertial_val[begin_idx:end_idx, 12:], 400)"
   ]
  },
  {
   "cell_type": "code",
   "execution_count": null,
   "metadata": {},
   "outputs": [],
   "source": [
    "shape = \"rectangle\"\n",
    "\n",
    "pos_dict[shape] = pos[begin_idx:end_idx]\n",
    "quat_dict[shape] = inertial_val[begin_idx:end_idx, 12:]"
   ]
  },
  {
   "attachments": {},
   "cell_type": "markdown",
   "metadata": {},
   "source": [
    "generate figure"
   ]
  },
  {
   "cell_type": "code",
   "execution_count": null,
   "metadata": {},
   "outputs": [],
   "source": [
    "result_file_name = None\n",
    "\n",
    "ipsj_util.create_course_figure(pos_dict, quat_dict, result_file_name)"
   ]
  },
  {
   "attachments": {},
   "cell_type": "markdown",
   "metadata": {},
   "source": [
    "### synchronization"
   ]
  },
  {
   "attachments": {},
   "cell_type": "markdown",
   "metadata": {},
   "source": [
    "prepare data"
   ]
  },
  {
   "cell_type": "code",
   "execution_count": null,
   "metadata": {},
   "outputs": [],
   "source": [
    "inertial_log_file = \"foo_inertial_aggmr.pkl\"\n",
    "topcon_log_file = \"foo.txt\"\n",
    "\n",
    "inertial_ts, inertial_val = util.load_inertial_log(inertial_log_file)\n",
    "topcon_ts, topcon_pos, topcon_height = util.make_ts_unique(*util.load_topcon_log(topcon_log_file))\n",
    "topcon_pos[:, 0] *= -1\n",
    "print(f\"topcon log starts at {topcon_ts[0].strftime('%Y-%m-%d %H:%M')} and ends at {topcon_ts[-1].strftime('%Y-%m-%d %H:%M')}\")"
   ]
  },
  {
   "cell_type": "code",
   "execution_count": null,
   "metadata": {},
   "outputs": [],
   "source": [
    "min_jump_interval = 10\n",
    "\n",
    "inertial_jump_idxes = util.find_jump_in_inertial(inertial_ts, inertial_val[:, :3], min_jump_interval, \"min\")"
   ]
  },
  {
   "cell_type": "code",
   "execution_count": null,
   "metadata": {},
   "outputs": [],
   "source": [
    "min_jump_interval = 0\n",
    "topcon_begin = None\n",
    "topcon_end = None\n",
    "# topcon_begin = datetime(2000, 1, 1, 0, 0)\n",
    "# topcon_end = datetime(2000, 1, 1, 0, 5)\n",
    "\n",
    "topcon_jump_idxes = util.find_jump_in_topcon(topcon_ts, topcon_pos, topcon_height, min_jump_interval, topcon_begin, topcon_end)"
   ]
  },
  {
   "attachments": {},
   "cell_type": "markdown",
   "metadata": {},
   "source": [
    "generate figure"
   ]
  },
  {
   "cell_type": "code",
   "execution_count": null,
   "metadata": {},
   "outputs": [],
   "source": [
    "result_file_name = None\n",
    "\n",
    "ipsj_util.create_sync_figure(inertial_val[:, :3], topcon_height, inertial_jump_idxes, topcon_jump_idxes, result_file_name)"
   ]
  }
 ],
 "metadata": {
  "kernelspec": {
   "display_name": "heading-est-nn-env",
   "language": "python",
   "name": "python3"
  },
  "language_info": {
   "codemirror_mode": {
    "name": "ipython",
    "version": 3
   },
   "file_extension": ".py",
   "mimetype": "text/x-python",
   "name": "python",
   "nbconvert_exporter": "python",
   "pygments_lexer": "ipython3",
   "version": "3.10.6"
  },
  "orig_nbformat": 4
 },
 "nbformat": 4,
 "nbformat_minor": 2
}
