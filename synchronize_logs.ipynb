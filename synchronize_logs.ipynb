{
 "cells": [
  {
   "cell_type": "code",
   "execution_count": null,
   "metadata": {},
   "outputs": [],
   "source": [
    "import os.path as path\n",
    "from datetime import datetime\n",
    "import script.utility as util"
   ]
  },
  {
   "cell_type": "code",
   "execution_count": null,
   "metadata": {},
   "outputs": [],
   "source": [
    "inertial_log_file = \"foo_inertial_aggmr.pkl\"\n",
    "topcon_log_file = \"foo.txt\"\n",
    "\n",
    "inertial_ts, inertial_val = util.load_inertial_log(inertial_log_file)\n",
    "topcon_ts, topcon_pos, topcon_height = util.make_ts_unique(*util.load_topcon_log(topcon_log_file))\n",
    "topcon_pos[:, 0] *= -1"
   ]
  },
  {
   "attachments": {},
   "cell_type": "markdown",
   "metadata": {},
   "source": [
    "find jump action"
   ]
  },
  {
   "cell_type": "code",
   "execution_count": null,
   "metadata": {},
   "outputs": [],
   "source": [
    "min_jump_interval = 0\n",
    "\n",
    "inertial_jump_idxes = util.find_jump_in_inertial(inertial_ts, inertial_val[:, :3], min_jump_interval)"
   ]
  },
  {
   "cell_type": "code",
   "execution_count": null,
   "metadata": {},
   "outputs": [],
   "source": [
    "min_jump_interval = 0\n",
    "topcon_begin = None\n",
    "topcon_end = None\n",
    "# topcon_begin = datetime(2000, 1, 1, 0, 0)\n",
    "# topcon_end = datetime(2000, 1, 1, 0, 5)\n",
    "\n",
    "topcon_jump_idxes = util.find_jump_in_topcon(topcon_ts, topcon_pos, topcon_height, min_jump_interval, topcon_begin, topcon_end)"
   ]
  },
  {
   "attachments": {},
   "cell_type": "markdown",
   "metadata": {},
   "source": [
    "synchronize logs"
   ]
  },
  {
   "cell_type": "code",
   "execution_count": null,
   "metadata": {},
   "outputs": [],
   "source": [
    "padding = 100\n",
    "use_jump_idxes = \"both\"\n",
    "\n",
    "cut_inertial_ts = util.cut_with_padding(inertial_ts, inertial_jump_idxes, padding)\n",
    "cut_inertial_val = util.cut_with_padding(inertial_val, inertial_jump_idxes, padding)\n",
    "resampled_topcon_pos, resampled_topcon_height = util.adjust_freq(cut_inertial_ts, util.adjust_ts_offset(inertial_jump_idxes, inertial_ts, topcon_jump_idxes, topcon_ts, use_jump_idxes), topcon_pos, topcon_height)"
   ]
  },
  {
   "attachments": {},
   "cell_type": "markdown",
   "metadata": {},
   "source": [
    "correct start point and direction"
   ]
  },
  {
   "cell_type": "code",
   "execution_count": null,
   "metadata": {},
   "outputs": [],
   "source": [
    "ref_direct_tan = 2\n",
    "rot_angle = 0\n",
    "\n",
    "corrected_topcon_pos = util.rot(rot_angle, resampled_topcon_pos - resampled_topcon_pos[0])\n",
    "util.vis_tj(corrected_topcon_pos, ref_direct_tan)"
   ]
  },
  {
   "attachments": {},
   "cell_type": "markdown",
   "metadata": {},
   "source": [
    "split data"
   ]
  },
  {
   "cell_type": "code",
   "execution_count": null,
   "metadata": {},
   "outputs": [],
   "source": [
    "min_split_interval = 0\n",
    "split_factor = \"y_min\"\n",
    "\n",
    "split_data = util.split(cut_inertial_ts, cut_inertial_val, corrected_topcon_pos, resampled_topcon_height, split_factor, min_split_interval)\n",
    "util.plot(split_data)"
   ]
  },
  {
   "attachments": {},
   "cell_type": "markdown",
   "metadata": {},
   "source": [
    "export synchronized log"
   ]
  },
  {
   "cell_type": "code",
   "execution_count": null,
   "metadata": {},
   "outputs": [],
   "source": [
    "dir_name = path.splitext(path.basename(inertial_log_file))[0]\n",
    "\n",
    "util.export(split_data, dir_name)\n",
    "util.write_conf(dir_name, padding, rot_angle)"
   ]
  }
 ],
 "metadata": {
  "kernelspec": {
   "display_name": "heading-est-nn-env",
   "language": "python",
   "name": "python3"
  },
  "language_info": {
   "codemirror_mode": {
    "name": "ipython",
    "version": 3
   },
   "file_extension": ".py",
   "mimetype": "text/x-python",
   "name": "python",
   "nbconvert_exporter": "python",
   "pygments_lexer": "ipython3",
   "version": "3.10.6"
  },
  "orig_nbformat": 4,
  "vscode": {
   "interpreter": {
    "hash": "d7524a1ea6b2d8b2f16c7b12db78f1659174958b74d2e744656d29b0511c3190"
   }
  }
 },
 "nbformat": 4,
 "nbformat_minor": 2
}
