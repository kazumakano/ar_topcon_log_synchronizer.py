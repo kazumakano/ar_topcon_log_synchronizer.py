{
 "cells": [
  {
   "cell_type": "code",
   "execution_count": null,
   "metadata": {},
   "outputs": [],
   "source": [
    "import script.utility as util"
   ]
  },
  {
   "cell_type": "code",
   "execution_count": null,
   "metadata": {},
   "outputs": [],
   "source": [
    "log_file = \"foo.csv\"\n",
    "\n",
    "ts, inertial_val, pos, height = util.load_synced_log(log_file)"
   ]
  },
  {
   "attachments": {},
   "cell_type": "markdown",
   "metadata": {},
   "source": [
    "correct start point and direction"
   ]
  },
  {
   "cell_type": "code",
   "execution_count": null,
   "metadata": {},
   "outputs": [],
   "source": [
    "ref_direct_tan = 2\n",
    "rot_angle = 0\n",
    "\n",
    "corrected_pos = util.rot(rot_angle, pos - pos[0])\n",
    "util.vis_tj(corrected_pos, ref_direct_tan)"
   ]
  },
  {
   "attachments": {},
   "cell_type": "markdown",
   "metadata": {},
   "source": [
    "check time synchronicity"
   ]
  },
  {
   "cell_type": "code",
   "execution_count": null,
   "metadata": {},
   "outputs": [],
   "source": [
    "shift_len = 0\n",
    "\n",
    "shifted_ts, shifted_inertial_val, shifted_pos, shifted_height = util.shift_pos_and_height(ts, inertial_val, corrected_pos, height, shift_len)\n",
    "util.plot_with_turn_time(shifted_ts, shifted_inertial_val, shifted_pos)"
   ]
  },
  {
   "attachments": {},
   "cell_type": "markdown",
   "metadata": {},
   "source": [
    "export fixed log"
   ]
  },
  {
   "cell_type": "code",
   "execution_count": null,
   "metadata": {},
   "outputs": [],
   "source": [
    "util.export_fixed(shifted_ts, shifted_inertial_val, shifted_pos, shifted_height, log_file)"
   ]
  }
 ],
 "metadata": {
  "kernelspec": {
   "display_name": "heading-est-nn-env",
   "language": "python",
   "name": "python3"
  },
  "language_info": {
   "codemirror_mode": {
    "name": "ipython",
    "version": 3
   },
   "file_extension": ".py",
   "mimetype": "text/x-python",
   "name": "python",
   "nbconvert_exporter": "python",
   "pygments_lexer": "ipython3",
   "version": "3.10.6"
  },
  "orig_nbformat": 4,
  "vscode": {
   "interpreter": {
    "hash": "d7524a1ea6b2d8b2f16c7b12db78f1659174958b74d2e744656d29b0511c3190"
   }
  }
 },
 "nbformat": 4,
 "nbformat_minor": 2
}
